{
 "cells": [
  {
   "cell_type": "markdown",
   "metadata": {},
   "source": [
    "## Knapsack Problem\n",
    "\n",
    "The *knapsack problem*:  given a set of integers $S = \\{s_1, s_2, \\ldots, s_n\\}$ and a target number $T$, find a subset (i.e., knapsack) of $S$ which adds up exactly to $T$.  \n",
    "\n",
    "For example, if $S = \\{1,2,5, 9, 10\\}$, there is a subset that adds up to $T = 22$, but not to $T = 23$.  Complete the following tasks related to this problem."
   ]
  },
  {
   "cell_type": "markdown",
   "metadata": {},
   "source": [
    "# 1. \n",
    "\n",
    "Find a subset of $S = \\{1,2,5, 9, 10\\}$ with sum $T = 22$.  Explain the process (algorithm) you used mentally to find the subset.  Then apply the same process in an attempt to find a subset with sum $T = 23$.  \n",
    "\n",
    "How do you know there is no such subset?"
   ]
  },
  {
   "cell_type": "code",
   "execution_count": 2,
   "metadata": {},
   "outputs": [
    {
     "output_type": "execute_result",
     "data": {
      "text/plain": [
       "22"
      ]
     },
     "metadata": {},
     "execution_count": 2
    }
   ],
   "source": [
    "# starting with the highest number in the list, substract it from T \n",
    "# and look for the remainder in the list \n",
    "# else subtract the next bigest number remaining\n",
    "# and look for the remainder in the list starting from the next position\n",
    "\n",
    "# we get:\n",
    "sub = [10,9,2,1]\n",
    "sum(sub)\n",
    "\n",
    "# T = 23 is not possible because all possible combinaison of S cannot add up to 23"
   ]
  },
  {
   "cell_type": "markdown",
   "metadata": {
    "collapsed": true
   },
   "source": [
    "# 2.\n",
    "\n",
    "Consider the following possible algorithm for the knapsack problem, written in psuedocode: \n",
    "```python\n",
    "knapsack(S[], T):\n",
    "    K = empty\n",
    "    for each i < size(S)\n",
    "        if sum(K) + S[i] <= T, put S[i] into K\n",
    "    if sum(K) = T, return K, else return False.\n",
    "```\n",
    "**a)** Describe what this algorithm does in English.  \n",
    "\n",
    "**b)** Implement this algorithm in Python and run it on the $S$ and $T$ above.\n",
    "\n",
    "\n",
    "**c)** Prove that this algorithm is NOT correct.  That is, find a counterexample: a set $S$ and number $T$ for which there is a solution, but not one that the algorithm finds.\n",
    "\n",
    "**d)** Verify that this particular $S$ and $T$ does not give the right output when entered to your Python program."
   ]
  },
  {
   "cell_type": "code",
   "execution_count": 2,
   "metadata": {},
   "outputs": [],
   "source": [
    "# the algorithm try every elements of S (in order)\n",
    "# if the current element plus the current total is smaller than the objective (T)\n",
    "# add the current item add it to the list K\n",
    "# when its done, return list K if T is equal to the total of list K, otherwise return false"
   ]
  },
  {
   "cell_type": "code",
   "execution_count": 4,
   "metadata": {},
   "outputs": [],
   "source": [
    "def knapsack(S, T):\n",
    "    K = []\n",
    "    for i in range(len(S)):\n",
    "        if sum(K) + S[i] <= T: \n",
    "            K.append(S[i])\n",
    "    if sum(K) == T:\n",
    "        return K \n",
    "    else:\n",
    "        return False"
   ]
  },
  {
   "cell_type": "code",
   "execution_count": 30,
   "metadata": {},
   "outputs": [
    {
     "output_type": "stream",
     "name": "stdout",
     "text": [
      "False\nFalse\nFalse\n"
     ]
    }
   ],
   "source": [
    "S = [1,2,5,9,10]\n",
    "print(knapsack(S, 14)) # [5, 9]\n",
    "print(knapsack(S, 22)) # [1, 2, 9, 10]\n",
    "print(knapsack(S, 23)) # False"
   ]
  },
  {
   "cell_type": "markdown",
   "metadata": {},
   "source": [
    "# 3. \n",
    "\n",
    "Another try: What if you put the elements in the knapsack from largest to smallest?  Check that this too is not a correct algorithm."
   ]
  },
  {
   "cell_type": "code",
   "execution_count": 5,
   "metadata": {},
   "outputs": [
    {
     "output_type": "stream",
     "name": "stdout",
     "text": [
      "False\n[10, 9, 2, 1]\nFalse\n"
     ]
    }
   ],
   "source": [
    "S = [10,9,5,2,1]\n",
    "print(knapsack(S, 14)) # [9, 5]\n",
    "print(knapsack(S, 22)) # [10, 9, 2, 1]\n",
    "print(knapsack(S, 23)) # False"
   ]
  },
  {
   "cell_type": "markdown",
   "metadata": {},
   "source": [
    "# 4.\n",
    "\n",
    "Describe a correct algorithm for the knapsack problem (that we haven't seen in class), both in English and in pseudocode.  Then implement the algorithm in Python.  Explain how you know your algorithm is correct (even if it might not be efficient)."
   ]
  },
  {
   "cell_type": "code",
   "execution_count": 39,
   "metadata": {},
   "outputs": [],
   "source": [
    "# assuming a reverse sorted list\n",
    "# try every possible combinaison that sum up to T\n",
    "\n",
    "# knapsack_bute(S[], T):\n",
    "#    for each j < size(S)\n",
    "#        K = empty\n",
    "#        if sum(K) + S[j] <= T, put S[j] into K\n",
    "# \n",
    "#        for each i < size(S-j)\n",
    "#            if sum(K) + S[i] <= T, put S[i] into K\n",
    "#        if sum(K) = T, return K\n",
    "#    return False.\n",
    "\n",
    "def knapsack_brute(S, T):\n",
    "    for j in range(len(S)):\n",
    "        K = []\n",
    "        if sum(K) + S[j] <= T: \n",
    "            K.append(S[j])\n",
    "\n",
    "        for i in range(j+1,len(S)):\n",
    "            if sum(K) + S[i] <= T: \n",
    "                K.append(S[i])\n",
    "        if sum(K) == T:\n",
    "            return K\n",
    "            \n",
    "    return False    "
   ]
  },
  {
   "cell_type": "code",
   "execution_count": 46,
   "metadata": {},
   "outputs": [
    {
     "output_type": "stream",
     "name": "stdout",
     "text": [
      "[9, 5]\n[10, 9, 2, 1]\nFalse\n"
     ]
    }
   ],
   "source": [
    "S = [10,9,5,2,1]\n",
    "print(knapsack_brute(S, 14)) # [9, 5]\n",
    "print(knapsack_brute(S, 22)) # [10, 9, 2, 1]\n",
    "print(knapsack_brute(S, 23)) # False"
   ]
  },
  {
   "cell_type": "markdown",
   "metadata": {
    "collapsed": true
   },
   "source": [
    "# 5. Generating correct change\n",
    "\n",
    "Now, we will be making change using the fewest coins. \n",
    "\n",
    "Suppose you are a programmer for a vending machine manufacturer. Your company wants to streamline effort by giving out the fewest possible coins in change for each transaction. Suppose a customer puts in a dollar bill and purchases an item for 37 cents. What is the smallest number of coins you can use to make change? The answer is six coins: two quarters, one dime, and three pennies. \n",
    "\n",
    "How did we arrive at the answer of six coins? We start with the largest coin in our arsenal (a quarter) and use as many of those as possible, then we go to the next lowest coin value and use as many of those as possible. This is the greedy algorithm for change-making.\n",
    "\n",
    "**Question:** Write the greedy algorithm for change making.\n",
    "\n",
    "The input is the amount of change to generate (in pennies) and a list of coin sizes (in pennies)\n",
    "\n",
    "The output is the minimum number of coins to gener\n",
    "\n",
    "```\n",
    "# buys with 1 dollar for 37 pennies\n",
    "# Second argument says we can give quarters, dimes, nickels and pennies\n",
    "make_change(100 - 37, [25, 10, 5, 1])\n",
    "\n",
    "# 2 quarters, one dime, and three pennies\n",
    "output --> 6 # Output would be equivalent to the choices [2, 1, 0, 3]\n",
    "```"
   ]
  },
  {
   "cell_type": "code",
   "execution_count": 111,
   "metadata": {},
   "outputs": [],
   "source": [
    "def make_change(val, coins):\n",
    "    change = []\n",
    "    for c in coins:\n",
    "        if val // c > 0:\n",
    "            change.append(val//c)\n",
    "            #val -= c * (val//c)\n",
    "            val %= c\n",
    "        else:\n",
    "            change.append(0)\n",
    "    return change     "
   ]
  },
  {
   "cell_type": "code",
   "execution_count": 112,
   "metadata": {},
   "outputs": [
    {
     "output_type": "execute_result",
     "data": {
      "text/plain": [
       "[2, 1, 0, 3]"
      ]
     },
     "metadata": {},
     "execution_count": 112
    }
   ],
   "source": [
    "make_change(100 - 37, [25, 10, 5, 1]) # [2, 1, 0, 3]"
   ]
  },
  {
   "cell_type": "markdown",
   "metadata": {},
   "source": [
    "# 6 Recursive change\n",
    "\n",
    "Write the greedy change making algorithm using recursion"
   ]
  },
  {
   "cell_type": "code",
   "execution_count": 186,
   "metadata": {},
   "outputs": [],
   "source": [
    "def make_change_r(V, C, chg=[]):\n",
    "    c = C[0]\n",
    "    n = V // c\n",
    "    if len(C) > 1:\n",
    "        chg.append(n)\n",
    "        #make_change_r(V - c * n, C[1:], chg)\n",
    "        make_change_r(V % c, C[1:], chg)\n",
    "    else:\n",
    "        chg.append(n)\n",
    "    return chg"
   ]
  },
  {
   "cell_type": "code",
   "execution_count": 187,
   "metadata": {},
   "outputs": [
    {
     "output_type": "execute_result",
     "data": {
      "text/plain": [
       "[2, 1, 0, 3]"
      ]
     },
     "metadata": {},
     "execution_count": 187
    }
   ],
   "source": [
    "make_change_r(100 - 37, [25, 10, 5, 1]) # [2, 1, 0, 3]"
   ]
  },
  {
   "cell_type": "markdown",
   "metadata": {},
   "source": [
    "# 7 Dynamic Programming Change making\n",
    "\n",
    "Write a solution to the change making problem using dynamic programming.\n",
    "\n",
    "**Hint:** Start with making change for one cent and systematically work its way up to the amount of change we require. This guarantees us that at each step of the algorithm we already know the minimum number of coins needed to make change for any smaller amount. Keep a memoized table of results for each step working up to the amount of change you need to generate."
   ]
  },
  {
   "cell_type": "code",
   "execution_count": 184,
   "metadata": {},
   "outputs": [],
   "source": [
    "#import numpy as np\n",
    "\n",
    "def make_change_dp(V,C):\n",
    "    d = [[0 for j in range(V+1)] for i in range(len(C))]\n",
    "\n",
    "    for j in range(V+1):\n",
    "        v = j\n",
    "\n",
    "        for i in range(len(C)):\n",
    "            # return memoized value (need improvment)\n",
    "            if d[i][v] != 0:\n",
    "                d[i][j] = d[i][v]\n",
    "\n",
    "            # calc a new value\n",
    "            if v // C[i] > 0 :\n",
    "                d[i][j] = v // C[i]\n",
    "                v -= d[i][j] * C[i]\n",
    "\n",
    "    #print(np.array(d))\n",
    "    return [x[-1] for x in d] \n"
   ]
  },
  {
   "cell_type": "code",
   "execution_count": 185,
   "metadata": {},
   "outputs": [
    {
     "output_type": "execute_result",
     "data": {
      "text/plain": [
       "[2, 1, 0, 3]"
      ]
     },
     "metadata": {},
     "execution_count": 185
    }
   ],
   "source": [
    "value = 100 - 37\n",
    "coins = [25, 10, 5, 1]\n",
    "\n",
    "make_change_dp(value,coins) # [2, 1, 0, 3]"
   ]
  },
  {
   "cell_type": "code",
   "execution_count": null,
   "metadata": {},
   "outputs": [],
   "source": []
  }
 ],
 "metadata": {
  "kernelspec": {
   "display_name": "Python 3",
   "language": "python",
   "name": "python3"
  },
  "language_info": {
   "codemirror_mode": {
    "name": "ipython",
    "version": 3
   },
   "file_extension": ".py",
   "mimetype": "text/x-python",
   "name": "python",
   "nbconvert_exporter": "python",
   "pygments_lexer": "ipython3",
   "version": "3.8.3-final"
  }
 },
 "nbformat": 4,
 "nbformat_minor": 1
}